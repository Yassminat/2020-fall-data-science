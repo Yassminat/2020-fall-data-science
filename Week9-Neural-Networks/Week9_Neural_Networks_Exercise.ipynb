{
  "nbformat": 4,
  "nbformat_minor": 0,
  "metadata": {
    "colab": {
      "name": "Copy of Week9_Neural_Networks_Exercise.ipynb",
      "provenance": [],
      "collapsed_sections": [],
      "include_colab_link": true
    },
    "kernelspec": {
      "name": "python3",
      "display_name": "Python 3"
    },
    "accelerator": "GPU"
  },
  "cells": [
    {
      "cell_type": "markdown",
      "metadata": {
        "id": "view-in-github",
        "colab_type": "text"
      },
      "source": [
        "<a href=\"https://colab.research.google.com/github/Yassminat/2020-fall-data-science/blob/master/Week9-Neural-Networks/Week9_Neural_Networks_Exercise.ipynb\" target=\"_parent\"><img src=\"https://colab.research.google.com/assets/colab-badge.svg\" alt=\"Open In Colab\"/></a>"
      ]
    },
    {
      "cell_type": "code",
      "metadata": {
        "id": "UEjPEOd93QJU",
        "outputId": "3de2ddb6-63cd-48f9-fdc3-fefccf4b289e",
        "colab": {
          "base_uri": "https://localhost:8080/"
        }
      },
      "source": [
        "# TensorFlow and tf.keras\n",
        "import tensorflow as tf\n",
        "from tensorflow import keras\n",
        "# Layers for our neural networks\n",
        "from tensorflow.keras.layers import Conv2D, MaxPooling2D, Dropout, Flatten, Dense\n",
        "# A pretrained model for transfer learning\n",
        "from keras.models import Model\n",
        "from keras.applications import vgg19\n",
        "\n",
        "# Our normal python data science stack you've come to know and love\n",
        "import numpy as np\n",
        "import os\n",
        "import sys\n",
        "import matplotlib.pyplot as plt\n",
        "import pandas as pd\n",
        "import seaborn as sns\n",
        "from sklearn.model_selection import train_test_split\n",
        "from sklearn import datasets\n",
        "\n",
        "print(tf.__version__)"
      ],
      "execution_count": null,
      "outputs": [
        {
          "output_type": "stream",
          "text": [
            "2.3.0\n"
          ],
          "name": "stdout"
        }
      ]
    },
    {
      "cell_type": "markdown",
      "metadata": {
        "id": "EIb__qFU3t1n"
      },
      "source": [
        "You're going to use a neural network to make predictions on the MNIST Fashion data set.  Check out the documentation here, make sure you check the size of the images and how many classes are in the data set https://keras.io/api/datasets/fashion_mnist/"
      ]
    },
    {
      "cell_type": "code",
      "metadata": {
        "id": "-k1roY6I8iEe"
      },
      "source": [
        "# switch runtime to GPU"
      ],
      "execution_count": null,
      "outputs": []
    },
    {
      "cell_type": "code",
      "metadata": {
        "id": "ErpvW92D3lHy"
      },
      "source": [
        "# load the fashion mnist data set using tf.keras.datasets.fashion_mnist.load_data()\n",
        "(X_train, y_train), (X_test, y_test) = tf.keras.datasets.fashion_mnist.load_data()"
      ],
      "execution_count": null,
      "outputs": []
    },
    {
      "cell_type": "code",
      "metadata": {
        "id": "udZ6fuUUnuP8",
        "outputId": "01467260-e6d5-4acf-fd5c-bfbdda0b3ab4",
        "colab": {
          "base_uri": "https://localhost:8080/"
        }
      },
      "source": [
        "# Checking data \n",
        "y_train"
      ],
      "execution_count": null,
      "outputs": [
        {
          "output_type": "execute_result",
          "data": {
            "text/plain": [
              "array([9, 0, 0, ..., 3, 0, 5], dtype=uint8)"
            ]
          },
          "metadata": {
            "tags": []
          },
          "execution_count": 12
        }
      ]
    },
    {
      "cell_type": "code",
      "metadata": {
        "id": "oBLo3YlTnytT",
        "outputId": "33c03fae-384b-421a-b677-efcc5d37c694",
        "colab": {
          "base_uri": "https://localhost:8080/"
        }
      },
      "source": [
        "# Checking x_train shape \n",
        "X_train.shape"
      ],
      "execution_count": null,
      "outputs": [
        {
          "output_type": "execute_result",
          "data": {
            "text/plain": [
              "(60000, 28, 28)"
            ]
          },
          "metadata": {
            "tags": []
          },
          "execution_count": 13
        }
      ]
    },
    {
      "cell_type": "code",
      "metadata": {
        "id": "UOAftWoOn8oL",
        "outputId": "f6f50da3-d618-4f6f-e5cd-077f76feba14",
        "colab": {
          "base_uri": "https://localhost:8080/",
          "height": 500
        }
      },
      "source": [
        "# View an image from the dataset \n",
        "plt.figure(figsize=(8, 8))\n",
        "img = X_train[699]\n",
        "img = img.reshape(28, 28)\n",
        "plt.imshow(img, cmap='gray')"
      ],
      "execution_count": null,
      "outputs": [
        {
          "output_type": "execute_result",
          "data": {
            "text/plain": [
              "<matplotlib.image.AxesImage at 0x7f4b406359b0>"
            ]
          },
          "metadata": {
            "tags": []
          },
          "execution_count": 14
        },
        {
          "output_type": "display_data",
          "data": {
            "image/png": "[encoded data removed]",
            "text/plain": [
              "<Figure size 576x576 with 1 Axes>"
            ]
          },
          "metadata": {
            "tags": [],
            "needs_background": "light"
          }
        }
      ]
    },
    {
      "cell_type": "code",
      "metadata": {
        "id": "rDlqLUNv34RV"
      },
      "source": [
        "# divide the values by 255 and reshape \n",
        "X_train = X_train/255 \n",
        "X_test = X_test/255"
      ],
      "execution_count": null,
      "outputs": []
    },
    {
      "cell_type": "code",
      "metadata": {
        "id": "LZVXL1Rmokyi"
      },
      "source": [
        "# # reshaping \n",
        "X_train = X_train.reshape(-1, 28, 28, 1)\n",
        "y_train = y_train.reshape(-1)\n",
        "X_test = X_test.reshape(-1, 28, 28, 1)\n",
        "y_test = y_test.reshape(-1)"
      ],
      "execution_count": null,
      "outputs": []
    },
    {
      "cell_type": "code",
      "metadata": {
        "id": "PTmgrqVS4BK1"
      },
      "source": [
        "# build the architecture of your model using Sequential()\n",
        "# you can use the same architecture we used in class, try to put your own spin on it, or copy another existing architecture\n",
        "# make sure you set the correct input shape and the correct parameters for the last dense layer\n",
        "model = tf.keras.models.Sequential()\n",
        "model.add(tf.keras.layers.Conv2D(input_shape=(28,28, 1),filters=28,kernel_size=(3,3), strides=(1,1), activation=\"relu\"))\n",
        "model.add(tf.keras.layers.Conv2D(filters=28,kernel_size=(3,3), strides=(1,1), activation=\"relu\"))\n",
        "model.add(tf.keras.layers.MaxPool2D(2, 2))\n",
        "model.add(tf.keras.layers.Conv2D(filters=28,kernel_size=(3,3), strides=(1,1), activation=\"relu\"))\n",
        "model.add(tf.keras.layers.Conv2D(filters=28,kernel_size=(3,3), strides=(1,1), activation=\"relu\"))\n",
        "model.add(tf.keras.layers.MaxPool2D(2, 2))\n",
        "\n",
        "# Flatten layer \n",
        "model.add(tf.keras.layers.Flatten())\n",
        "model.add(tf.keras.layers.Dense(256, activation='relu'))\n",
        "model.add(tf.keras.layers.Dropout(0.3))\n",
        "model.add(tf.keras.layers.Dense(256, activation='relu'))\n",
        "model.add(tf.keras.layers.Dropout(0.3))\n",
        "model.add(tf.keras.layers.Dense(128, activation='relu'))\n",
        "\n",
        "# Including 10 for number of classes, and softmax since this is a multiclass problem\n",
        "model.add(tf.keras.layers.Dense(10, activation='softmax'))"
      ],
      "execution_count": null,
      "outputs": []
    },
    {
      "cell_type": "code",
      "metadata": {
        "id": "O395g8-G4HJW"
      },
      "source": [
        "# compile your model\n",
        "model.compile(optimizer=tf.keras.optimizers.Adam(), loss='sparse_categorical_crossentropy', metrics=['acc'])"
      ],
      "execution_count": null,
      "outputs": []
    },
    {
      "cell_type": "code",
      "metadata": {
        "id": "cjZrNiiq4Ja1",
        "outputId": "51da7e8c-5d60-4e8f-d6c6-0cdb792b0e96",
        "colab": {
          "base_uri": "https://localhost:8080/"
        }
      },
      "source": [
        "# fit your model\n",
        "epochs = 20 \n",
        "model.fit(X_train, y_train, epochs=epochs, validation_split=0.1)"
      ],
      "execution_count": null,
      "outputs": [
        {
          "output_type": "stream",
          "text": [
            "Epoch 1/20\n",
            "1688/1688 [==============================] - 6s 4ms/step - loss: 0.5820 - acc: 0.7802 - val_loss: 0.3786 - val_acc: 0.8543\n",
            "Epoch 2/20\n",
            "1688/1688 [==============================] - 6s 4ms/step - loss: 0.3597 - acc: 0.8700 - val_loss: 0.3034 - val_acc: 0.8848\n",
            "Epoch 3/20\n",
            "1688/1688 [==============================] - 6s 4ms/step - loss: 0.3071 - acc: 0.8898 - val_loss: 0.3043 - val_acc: 0.8868\n",
            "Epoch 4/20\n",
            "1688/1688 [==============================] - 6s 4ms/step - loss: 0.2777 - acc: 0.8995 - val_loss: 0.2765 - val_acc: 0.8975\n",
            "Epoch 5/20\n",
            "1688/1688 [==============================] - 6s 4ms/step - loss: 0.2568 - acc: 0.9066 - val_loss: 0.2562 - val_acc: 0.9097\n",
            "Epoch 6/20\n",
            "1688/1688 [==============================] - 6s 4ms/step - loss: 0.2411 - acc: 0.9133 - val_loss: 0.2547 - val_acc: 0.9105\n",
            "Epoch 7/20\n",
            "1688/1688 [==============================] - 6s 4ms/step - loss: 0.2284 - acc: 0.9173 - val_loss: 0.2721 - val_acc: 0.9040\n",
            "Epoch 8/20\n",
            "1688/1688 [==============================] - 6s 4ms/step - loss: 0.2179 - acc: 0.9207 - val_loss: 0.2554 - val_acc: 0.9078\n",
            "Epoch 9/20\n",
            "1688/1688 [==============================] - 6s 4ms/step - loss: 0.2046 - acc: 0.9247 - val_loss: 0.2435 - val_acc: 0.9128\n",
            "Epoch 10/20\n",
            "1688/1688 [==============================] - 6s 4ms/step - loss: 0.1967 - acc: 0.9295 - val_loss: 0.2373 - val_acc: 0.9153\n",
            "Epoch 11/20\n",
            "1688/1688 [==============================] - 6s 4ms/step - loss: 0.1864 - acc: 0.9315 - val_loss: 0.2437 - val_acc: 0.9178\n",
            "Epoch 12/20\n",
            "1688/1688 [==============================] - 6s 4ms/step - loss: 0.1795 - acc: 0.9341 - val_loss: 0.2458 - val_acc: 0.9135\n",
            "Epoch 13/20\n",
            "1688/1688 [==============================] - 6s 4ms/step - loss: 0.1733 - acc: 0.9373 - val_loss: 0.2426 - val_acc: 0.9192\n",
            "Epoch 14/20\n",
            "1688/1688 [==============================] - 6s 4ms/step - loss: 0.1689 - acc: 0.9382 - val_loss: 0.2384 - val_acc: 0.9177\n",
            "Epoch 15/20\n",
            "1688/1688 [==============================] - 6s 4ms/step - loss: 0.1608 - acc: 0.9408 - val_loss: 0.2326 - val_acc: 0.9197\n",
            "Epoch 16/20\n",
            "1688/1688 [==============================] - 6s 4ms/step - loss: 0.1575 - acc: 0.9432 - val_loss: 0.2423 - val_acc: 0.9170\n",
            "Epoch 17/20\n",
            "1688/1688 [==============================] - 6s 4ms/step - loss: 0.1500 - acc: 0.9445 - val_loss: 0.2498 - val_acc: 0.9137\n",
            "Epoch 18/20\n",
            "1688/1688 [==============================] - 6s 4ms/step - loss: 0.1454 - acc: 0.9461 - val_loss: 0.2625 - val_acc: 0.9162\n",
            "Epoch 19/20\n",
            "1688/1688 [==============================] - 6s 4ms/step - loss: 0.1396 - acc: 0.9482 - val_loss: 0.2581 - val_acc: 0.9190\n",
            "Epoch 20/20\n",
            "1688/1688 [==============================] - 6s 4ms/step - loss: 0.1345 - acc: 0.9508 - val_loss: 0.2603 - val_acc: 0.9165\n"
          ],
          "name": "stdout"
        },
        {
          "output_type": "execute_result",
          "data": {
            "text/plain": [
              "<tensorflow.python.keras.callbacks.History at 0x7f4b40b8ae10>"
            ]
          },
          "metadata": {
            "tags": []
          },
          "execution_count": 20
        }
      ]
    },
    {
      "cell_type": "code",
      "metadata": {
        "id": "Cf_vRXWf4mL2",
        "outputId": "d860848b-7a03-432c-d5cf-86a878d9541e",
        "colab": {
          "base_uri": "https://localhost:8080/"
        }
      },
      "source": [
        "# evaluate your results\n",
        "model.evaluate(X_test, y_test)"
      ],
      "execution_count": null,
      "outputs": [
        {
          "output_type": "stream",
          "text": [
            "313/313 [==============================] - 1s 2ms/step - loss: 0.2846 - acc: 0.9158\n"
          ],
          "name": "stdout"
        },
        {
          "output_type": "execute_result",
          "data": {
            "text/plain": [
              "[0.2846020460128784, 0.9157999753952026]"
            ]
          },
          "metadata": {
            "tags": []
          },
          "execution_count": 21
        }
      ]
    },
    {
      "cell_type": "code",
      "metadata": {
        "id": "8vVQ48aK4nWF"
      },
      "source": [
        ""
      ],
      "execution_count": null,
      "outputs": []
    }
  ]
}